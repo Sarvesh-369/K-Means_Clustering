{
 "cells": [
  {
   "cell_type": "markdown",
   "metadata": {},
   "source": [
    "# K-means Clustering"
   ]
  },
  {
   "cell_type": "code",
   "execution_count": 1,
   "metadata": {},
   "outputs": [],
   "source": [
    "# Importing libraries\n",
    "\n",
    "import numpy as np\n",
    "import pandas as pd\n",
    "from matplotlib import pyplot as plt\n",
    "%matplotlib inline"
   ]
  },
  {
   "cell_type": "markdown",
   "metadata": {},
   "source": [
    "## Preprocessing"
   ]
  },
  {
   "cell_type": "code",
   "execution_count": 2,
   "metadata": {},
   "outputs": [
    {
     "data": {
      "text/html": [
       "<div>\n",
       "<style scoped>\n",
       "    .dataframe tbody tr th:only-of-type {\n",
       "        vertical-align: middle;\n",
       "    }\n",
       "\n",
       "    .dataframe tbody tr th {\n",
       "        vertical-align: top;\n",
       "    }\n",
       "\n",
       "    .dataframe thead th {\n",
       "        text-align: right;\n",
       "    }\n",
       "</style>\n",
       "<table border=\"1\" class=\"dataframe\">\n",
       "  <thead>\n",
       "    <tr style=\"text-align: right;\">\n",
       "      <th></th>\n",
       "      <th>Sex</th>\n",
       "      <th>Marital status</th>\n",
       "      <th>Age</th>\n",
       "      <th>Education</th>\n",
       "      <th>Income</th>\n",
       "      <th>Occupation</th>\n",
       "      <th>Settlement size</th>\n",
       "      <th>Labels</th>\n",
       "    </tr>\n",
       "  </thead>\n",
       "  <tbody>\n",
       "    <tr>\n",
       "      <th>0</th>\n",
       "      <td>0</td>\n",
       "      <td>0</td>\n",
       "      <td>31</td>\n",
       "      <td>0</td>\n",
       "      <td>69571</td>\n",
       "      <td>0</td>\n",
       "      <td>0</td>\n",
       "      <td>1</td>\n",
       "    </tr>\n",
       "    <tr>\n",
       "      <th>1</th>\n",
       "      <td>0</td>\n",
       "      <td>0</td>\n",
       "      <td>31</td>\n",
       "      <td>0</td>\n",
       "      <td>93648</td>\n",
       "      <td>1</td>\n",
       "      <td>2</td>\n",
       "      <td>1</td>\n",
       "    </tr>\n",
       "    <tr>\n",
       "      <th>2</th>\n",
       "      <td>0</td>\n",
       "      <td>0</td>\n",
       "      <td>42</td>\n",
       "      <td>1</td>\n",
       "      <td>77472</td>\n",
       "      <td>0</td>\n",
       "      <td>0</td>\n",
       "      <td>1</td>\n",
       "    </tr>\n",
       "    <tr>\n",
       "      <th>3</th>\n",
       "      <td>1</td>\n",
       "      <td>1</td>\n",
       "      <td>46</td>\n",
       "      <td>2</td>\n",
       "      <td>121501</td>\n",
       "      <td>1</td>\n",
       "      <td>0</td>\n",
       "      <td>0</td>\n",
       "    </tr>\n",
       "    <tr>\n",
       "      <th>4</th>\n",
       "      <td>1</td>\n",
       "      <td>1</td>\n",
       "      <td>30</td>\n",
       "      <td>1</td>\n",
       "      <td>207262</td>\n",
       "      <td>1</td>\n",
       "      <td>0</td>\n",
       "      <td>1</td>\n",
       "    </tr>\n",
       "  </tbody>\n",
       "</table>\n",
       "</div>"
      ],
      "text/plain": [
       "   Sex  Marital status  Age  Education  Income  Occupation  Settlement size  \\\n",
       "0    0               0   31          0   69571           0                0   \n",
       "1    0               0   31          0   93648           1                2   \n",
       "2    0               0   42          1   77472           0                0   \n",
       "3    1               1   46          2  121501           1                0   \n",
       "4    1               1   30          1  207262           1                0   \n",
       "\n",
       "   Labels  \n",
       "0       1  \n",
       "1       1  \n",
       "2       1  \n",
       "3       0  \n",
       "4       1  "
      ]
     },
     "execution_count": 2,
     "metadata": {},
     "output_type": "execute_result"
    }
   ],
   "source": [
    "# Loading data\n",
    "\n",
    "df_labeled = pd.read_csv('train_labeled.csv')\n",
    "df_unlabeled = pd.read_csv('train_unlabeled.csv')\n",
    "\n",
    "df_labeled.head()"
   ]
  },
  {
   "cell_type": "code",
   "execution_count": 3,
   "metadata": {},
   "outputs": [
    {
     "name": "stdout",
     "output_type": "stream",
     "text": [
      "Number of labeled datapoints: 50\n",
      "Number of unlabeled datapoints: 1800\n",
      "Combined shape: (1850, 7)\n"
     ]
    }
   ],
   "source": [
    "# Convert to numpy arrays\n",
    "\n",
    "X_labeled = df_labeled.drop(['Labels'], axis=1).values\n",
    "y_labeled = df_labeled['Labels'].values\n",
    "\n",
    "num_labeled = X_labeled.shape[0]\n",
    "num_unlabeled = df_unlabeled.shape[0]\n",
    "\n",
    "X_combined = np.concatenate([X_labeled, df_unlabeled], axis=0)\n",
    "\n",
    "print(f\"Number of labeled datapoints: {num_labeled}\")\n",
    "print(f\"Number of unlabeled datapoints: {num_unlabeled}\")\n",
    "print(f\"Combined shape: {X_combined.shape}\")"
   ]
  },
  {
   "cell_type": "markdown",
   "metadata": {},
   "source": [
    "## Clustering"
   ]
  },
  {
   "cell_type": "code",
   "execution_count": 4,
   "metadata": {},
   "outputs": [
    {
     "data": {
      "image/png": "[encoded data removed]",
      "text/plain": [
       "<Figure size 576x432 with 1 Axes>"
      ]
     },
     "metadata": {
      "needs_background": "light"
     },
     "output_type": "display_data"
    }
   ],
   "source": [
    "max_clusters = 10\n",
    "sse = []  # To store SSE values\n",
    "\n",
    "for n_clusters in range(1, max_clusters + 1):\n",
    "    # Randomly initialize cluster centers\n",
    "    np.random.seed(0)\n",
    "    initial_centers_indices = np.random.choice(X_combined.shape[0], n_clusters, replace=False)\n",
    "    centers = X_combined[initial_centers_indices]\n",
    "\n",
    "    # Number of iterations\n",
    "    max_iters = 100\n",
    "\n",
    "    for _ in range(max_iters):\n",
    "        # Assign each data point to the nearest cluster\n",
    "        distances = np.linalg.norm(X_combined[:, np.newaxis] - centers, axis=2)\n",
    "        labels = np.argmin(distances, axis=1)\n",
    "\n",
    "        # Update cluster centers\n",
    "        new_centers = np.array([X_combined[labels == i].mean(axis=0) for i in range(n_clusters)])\n",
    "\n",
    "        # Check for convergence\n",
    "        if np.all(centers == new_centers):\n",
    "            break\n",
    "\n",
    "        centers = new_centers\n",
    "\n",
    "    # Calculate the SSE for this number of clusters\n",
    "    sse.append(np.sum((X_combined - centers[labels]) ** 2))\n",
    "\n",
    "# Plot the SSE for each number of clusters\n",
    "plt.figure(figsize=(8, 6))\n",
    "plt.plot(range(1, max_clusters + 1), sse, marker='o')\n",
    "plt.title('Elbow Method for Optimal Cluster Number')\n",
    "plt.xlabel('Number of Clusters')\n",
    "plt.ylabel('SSE')\n",
    "plt.grid()\n",
    "plt.show()"
   ]
  },
  {
   "cell_type": "code",
   "execution_count": 5,
   "metadata": {},
   "outputs": [],
   "source": [
    "# centers =  #  NumPy array of shape: [n_centers, n_features]\n",
    "# labels =  #  NumPy array of shape: [n_samples]\n",
    "n_clusters = 4\n",
    "\n",
    "# Randomly initialize cluster centers\n",
    "np.random.seed(0)\n",
    "initial_centers_indices = np.random.choice(X_combined.shape[0], n_clusters, replace=False)\n",
    "centers = X_combined[initial_centers_indices]\n",
    "\n",
    "# Number of iterations\n",
    "max_iters = 100\n",
    "\n",
    "for _ in range(max_iters):\n",
    "    # Assign each data point to the nearest cluster\n",
    "    distances = np.linalg.norm(X_combined[:, np.newaxis] - centers, axis=2)\n",
    "    labels = np.argmin(distances, axis=1)\n",
    "\n",
    "    # Update cluster centers\n",
    "    new_centers = np.array([X_combined[labels == i].mean(axis=0) for i in range(n_clusters)])\n",
    "\n",
    "    # Check for convergence\n",
    "    if np.all(centers == new_centers):\n",
    "        break\n",
    "\n",
    "    centers = new_centers"
   ]
  },
  {
   "cell_type": "markdown",
   "metadata": {},
   "source": [
    "## Classification"
   ]
  },
  {
   "cell_type": "code",
   "execution_count": 6,
   "metadata": {},
   "outputs": [
    {
     "name": "stdout",
     "output_type": "stream",
     "text": [
      "Cluster labels: [1 0 0 1]\n"
     ]
    }
   ],
   "source": [
    "# Discard the labels of the unlabeled data\n",
    "labels = labels[:num_labeled]\n",
    "\n",
    "\n",
    "# Find the number of clusters\n",
    "num_clusters = len(np.unique(labels))\n",
    "\n",
    "# Assign the labels\n",
    "cluster_labels = []\n",
    "\n",
    "for i in range(num_clusters):\n",
    "    cluster = y_labeled[labels == i]\n",
    "    counts = np.bincount(cluster)\n",
    "    cluster_labels.append(np.argmax(counts))\n",
    "\n",
    "cluster_labels = np.array(cluster_labels)\n",
    "\n",
    "\n",
    "print(f\"Cluster labels: {cluster_labels}\")\n"
   ]
  },
  {
   "cell_type": "code",
   "execution_count": 7,
   "metadata": {},
   "outputs": [
    {
     "data": {
      "text/html": [
       "<div>\n",
       "<style scoped>\n",
       "    .dataframe tbody tr th:only-of-type {\n",
       "        vertical-align: middle;\n",
       "    }\n",
       "\n",
       "    .dataframe tbody tr th {\n",
       "        vertical-align: top;\n",
       "    }\n",
       "\n",
       "    .dataframe thead th {\n",
       "        text-align: right;\n",
       "    }\n",
       "</style>\n",
       "<table border=\"1\" class=\"dataframe\">\n",
       "  <thead>\n",
       "    <tr style=\"text-align: right;\">\n",
       "      <th></th>\n",
       "      <th>ID</th>\n",
       "      <th>Sex</th>\n",
       "      <th>Marital status</th>\n",
       "      <th>Age</th>\n",
       "      <th>Education</th>\n",
       "      <th>Income</th>\n",
       "      <th>Occupation</th>\n",
       "      <th>Settlement size</th>\n",
       "    </tr>\n",
       "  </thead>\n",
       "  <tbody>\n",
       "    <tr>\n",
       "      <th>0</th>\n",
       "      <td>1</td>\n",
       "      <td>1</td>\n",
       "      <td>1</td>\n",
       "      <td>40</td>\n",
       "      <td>2</td>\n",
       "      <td>136812</td>\n",
       "      <td>1</td>\n",
       "      <td>2</td>\n",
       "    </tr>\n",
       "    <tr>\n",
       "      <th>1</th>\n",
       "      <td>2</td>\n",
       "      <td>0</td>\n",
       "      <td>0</td>\n",
       "      <td>36</td>\n",
       "      <td>1</td>\n",
       "      <td>118277</td>\n",
       "      <td>1</td>\n",
       "      <td>1</td>\n",
       "    </tr>\n",
       "    <tr>\n",
       "      <th>2</th>\n",
       "      <td>3</td>\n",
       "      <td>0</td>\n",
       "      <td>0</td>\n",
       "      <td>33</td>\n",
       "      <td>1</td>\n",
       "      <td>144597</td>\n",
       "      <td>1</td>\n",
       "      <td>1</td>\n",
       "    </tr>\n",
       "    <tr>\n",
       "      <th>3</th>\n",
       "      <td>4</td>\n",
       "      <td>1</td>\n",
       "      <td>1</td>\n",
       "      <td>23</td>\n",
       "      <td>1</td>\n",
       "      <td>106043</td>\n",
       "      <td>1</td>\n",
       "      <td>0</td>\n",
       "    </tr>\n",
       "    <tr>\n",
       "      <th>4</th>\n",
       "      <td>5</td>\n",
       "      <td>0</td>\n",
       "      <td>0</td>\n",
       "      <td>63</td>\n",
       "      <td>2</td>\n",
       "      <td>272314</td>\n",
       "      <td>2</td>\n",
       "      <td>2</td>\n",
       "    </tr>\n",
       "  </tbody>\n",
       "</table>\n",
       "</div>"
      ],
      "text/plain": [
       "   ID  Sex  Marital status  Age  Education  Income  Occupation  \\\n",
       "0   1    1               1   40          2  136812           1   \n",
       "1   2    0               0   36          1  118277           1   \n",
       "2   3    0               0   33          1  144597           1   \n",
       "3   4    1               1   23          1  106043           1   \n",
       "4   5    0               0   63          2  272314           2   \n",
       "\n",
       "   Settlement size  \n",
       "0                2  \n",
       "1                1  \n",
       "2                1  \n",
       "3                0  \n",
       "4                2  "
      ]
     },
     "execution_count": 7,
     "metadata": {},
     "output_type": "execute_result"
    }
   ],
   "source": [
    "# Read test data\n",
    "\n",
    "df_test = pd.read_csv('test_data.csv')\n",
    "ID = df_test['ID']\n",
    "X_test = df_test.drop(['ID'], axis=1).values\n",
    "\n",
    "df_test.head()"
   ]
  },
  {
   "cell_type": "code",
   "execution_count": 8,
   "metadata": {},
   "outputs": [],
   "source": [
    "# Predict labels for test data\n",
    "\n",
    "# X_test: (n_samples, n_features)\n",
    "# cluster_centers: (n_clusters, n_features)\n",
    "\n",
    "# Find the nearest cluster center for each test data point\n",
    "distances = np.linalg.norm(X_test[:, None, :] - centers[None], axis=-1) # (n_samples, n_clusters)\n",
    "\n",
    "# Find the nearest cluster center for each test data point\n",
    "labels = np.argmin(distances, axis=-1) # (n_samples,)\n",
    "\n",
    "# Map cluster labels to predicted labels\n",
    "predicted_labels = cluster_labels[labels]"
   ]
  },
  {
   "cell_type": "code",
   "execution_count": 9,
   "metadata": {},
   "outputs": [
    {
     "data": {
      "text/plain": [
       "array([0, 0, 0, 0, 1, 1, 0, 0, 1, 1, 1, 0, 1, 0, 0, 0, 0, 1, 1, 0, 0, 0,\n",
       "       0, 0, 0, 0, 1, 0, 0, 0, 0, 0, 0, 0, 1, 0, 0, 0, 1, 0, 0, 0, 0, 0,\n",
       "       0, 0, 0, 1, 0, 0, 0, 0, 0, 1, 0, 0, 0, 0, 0, 1, 1, 0, 1, 0, 0, 0,\n",
       "       0, 1, 0, 1, 1, 0, 0, 0, 1, 0, 1, 0, 0, 0, 0, 1, 1, 0, 0, 0, 0, 0,\n",
       "       0, 1, 0, 0, 0, 0, 0, 0, 0, 1, 0, 0, 0, 0, 1, 1, 0, 0, 0, 0, 0, 1,\n",
       "       0, 0, 0, 0, 0, 0, 0, 0, 0, 1, 0, 0, 1, 0, 0, 1, 0, 1, 0, 1, 0, 0,\n",
       "       0, 0, 0, 0, 1, 0, 1, 0, 1, 1, 0, 0, 1, 0, 0, 1, 0, 0], dtype=int64)"
      ]
     },
     "execution_count": 9,
     "metadata": {},
     "output_type": "execute_result"
    }
   ],
   "source": [
    "predicted_labels"
   ]
  }
 ],
 "metadata": {
  "kernelspec": {
   "display_name": "Python 3",
   "language": "python",
   "name": "python3"
  },
  "language_info": {
   "codemirror_mode": {
    "name": "ipython",
    "version": 3
   },
   "file_extension": ".py",
   "mimetype": "text/x-python",
   "name": "python",
   "nbconvert_exporter": "python",
   "pygments_lexer": "ipython3",
   "version": "3.9.13"
  }
 },
 "nbformat": 4,
 "nbformat_minor": 2
}
